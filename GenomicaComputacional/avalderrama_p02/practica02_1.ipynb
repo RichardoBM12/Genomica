{
 "cells": [
  {
   "cell_type": "markdown",
   "metadata": {},
   "source": [
    "# Genómica Computacional\n",
    "## Práctica 02 - Herramientas bioinformáticas (Python)"
   ]
  },
  {
   "cell_type": "markdown",
   "metadata": {},
   "source": [
    "1) Escribir un programa que me permita aplicar el 10% de descuento si la compra total es mayor a $100."
   ]
  },
  {
   "cell_type": "markdown",
   "metadata": {},
   "source": [
    "2) Sabiendo que la fórmula para obtener el área de un triángulo es a = (b x h) / 2, donde b es la longitud de la base del triángulo, y h es su altura. Escribir un programa que permita realizar el cálculo del área de un triángulo. Si el área contiene valores decimales, imprimir el resultado con dos dígitos. "
   ]
  },
  {
   "cell_type": "markdown",
   "metadata": {},
   "source": [
    "3) La fórmula para el Índice de Masa Corportal es *IMC = kg/m2* donde kg es el peso de la persona en kilogramos y m2 es la altura en metros al cuadrado. Realizar un programa que calcula el IMC cuando se le provee el peso y la altura. "
   ]
  },
  {
   "source": [
    "## Datos:\n",
    "- Alejandro T. Valderrama Silva\n",
    "- No. de cuenta: 311523881"
   ],
   "cell_type": "markdown",
   "metadata": {}
  },
  {
   "source": [
    "### Ejercicio 1"
   ],
   "cell_type": "markdown",
   "metadata": {}
  },
  {
   "cell_type": "code",
   "execution_count": 6,
   "metadata": {},
   "outputs": [
    {
     "output_type": "stream",
     "name": "stdout",
     "text": [
      "450.0\n100\n90.9\n"
     ]
    }
   ],
   "source": [
    "#Function that applies 10% off for \n",
    "def off_10 (final_price):\n",
    "    if final_price > 100:\n",
    "        return final_price*0.9\n",
    "    return final_price\n",
    "\n",
    "#Ejemplos\n",
    "print(off_10(500))\n",
    "print(off_10(100))\n",
    "print(off_10(101))"
   ]
  },
  {
   "source": [
    "### Ejercicio 2"
   ],
   "cell_type": "markdown",
   "metadata": {}
  },
  {
   "cell_type": "code",
   "execution_count": 11,
   "metadata": {},
   "outputs": [
    {
     "output_type": "stream",
     "name": "stdout",
     "text": [
      "25.0\n10.29\n127.9\n"
     ]
    }
   ],
   "source": [
    "def triangle_area (b, h):\n",
    "    a = (b * h) / 2\n",
    "    if (isinstance(a, float)):\n",
    "        return float(\"{:.2f}\".format(a))\n",
    "    return a\n",
    "\n",
    "#Ejemplos\n",
    "print(triangle_area(5,10))\n",
    "print(triangle_area(2.35,8.76))\n",
    "print(triangle_area(25.58,10))"
   ]
  },
  {
   "source": [
    "### Ejercicio 3"
   ],
   "cell_type": "markdown",
   "metadata": {}
  },
  {
   "cell_type": "code",
   "execution_count": 19,
   "metadata": {},
   "outputs": [
    {
     "output_type": "stream",
     "name": "stdout",
     "text": [
      "27.358845456721728\n32.488628979857054\n23.11111111111111\n"
     ]
    }
   ],
   "source": [
    "def imc (weight, height):\n",
    "     return weight/(pow(height,2))\n",
    "\n",
    "#Ejemplos\n",
    "print(imc(80,1.71))\n",
    "print(imc(95,1.71))\n",
    "print(imc(52,1.50))"
   ]
  }
 ],
 "metadata": {
  "kernelspec": {
   "name": "Python 3.6.9 64-bit",
   "display_name": "Python 3.6.9 64-bit",
   "metadata": {
    "interpreter": {
     "hash": "31f2aee4e71d21fbe5cf8b01ff0e069b9275f58929596ceb00d14d90e3e16cd6"
    }
   }
  },
  "language_info": {
   "codemirror_mode": {
    "name": "ipython",
    "version": 3
   },
   "file_extension": ".py",
   "mimetype": "text/x-python",
   "name": "python",
   "nbconvert_exporter": "python",
   "pygments_lexer": "ipython3",
   "version": "3.6.9-final"
  }
 },
 "nbformat": 4,
 "nbformat_minor": 2
}